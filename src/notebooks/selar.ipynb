{
 "cells": [
  {
   "cell_type": "code",
   "execution_count": 1,
   "metadata": {},
   "outputs": [],
   "source": [
    "import torch.nn as nn\n",
    "import torch"
   ]
  },
  {
   "cell_type": "code",
   "execution_count": 2,
   "metadata": {},
   "outputs": [],
   "source": [
    "import torch\n",
    "import torch.nn as nn\n",
    "import torch.nn.functional as F\n",
    "from torch_geometric.nn import GCNConv, GATConv, GINConv\n",
    "from torch.autograd import Variable\n",
    "import numpy as np\n",
    "\n",
    "\n",
    "\n",
    "class MetaModule(nn.Module):\n",
    "    \n",
    "    @staticmethod\n",
    "    def to_var(x, requires_grad=True):\n",
    "        if torch.cuda.is_available():\n",
    "            x = x.cuda()\n",
    "        return Variable(x, requires_grad=requires_grad)\n",
    "\n",
    "\n",
    "    def params(self):\n",
    "        for name, param in self.named_params(self):\n",
    "            yield param\n",
    "\n",
    "    def named_leaves(self):\n",
    "        return []\n",
    "\n",
    "    def named_submodules(self):\n",
    "        return []\n",
    "\n",
    "    def named_params(self, curr_module=None, memo=None, prefix=''):\n",
    "        if memo is None:\n",
    "            memo = set()\n",
    "\n",
    "        if hasattr(curr_module, 'named_leaves'):\n",
    "            for name, p in curr_module.named_leaves():\n",
    "                if p is not None and p not in memo:\n",
    "                    memo.add(p)\n",
    "                    yield prefix + ('.' if prefix else '') + name, p\n",
    "        else:\n",
    "            for name, p in curr_module._parameters.items():\n",
    "                if p is not None and p not in memo:\n",
    "                    memo.add(p)\n",
    "                    yield prefix + ('.' if prefix else '') + name, p\n",
    "\n",
    "        for mname, module in curr_module.named_children():\n",
    "            submodule_prefix = prefix + ('.' if prefix else '') + mname\n",
    "            for name, p in self.named_params(module, memo, submodule_prefix):\n",
    "                yield name, p\n",
    "\n",
    "    def update_params(self, lr_inner, first_order=False, source_params=None, detach=False):\n",
    "        if source_params is not None:\n",
    "            for tgt, src in zip(self.named_params(self), source_params):\n",
    "                name_t, param_t = tgt\n",
    "                grad = src\n",
    "                if first_order:\n",
    "                    grad = self.to_var(grad.detach().data)\n",
    "                tmp = param_t - lr_inner * grad\n",
    "                self.set_param(self, name_t, tmp)\n",
    "        else:\n",
    "\n",
    "            for name, param in self.named_params(self):\n",
    "                if not detach:\n",
    "                    grad = param.grad\n",
    "                    if first_order:\n",
    "                        grad = self.to_var(grad.detach().data)\n",
    "                    tmp = param - lr_inner * grad\n",
    "                    self.set_param(self, name, tmp)\n",
    "                else:\n",
    "                    param = param.detach_()  # https://blog.csdn.net/qq_39709535/article/details/81866686\n",
    "                    self.set_param(self, name, param)\n",
    "\n",
    "    def set_param(self, curr_mod, name, param):\n",
    "        if '.' in name:\n",
    "            n = name.split('.')\n",
    "            module_name = n[0]\n",
    "            rest = '.'.join(n[1:])\n",
    "            for name, mod in curr_mod.named_children():\n",
    "                if module_name == name:\n",
    "                    self.set_param(mod, rest, param)\n",
    "                    break\n",
    "        else:\n",
    "            setattr(curr_mod, name, param)\n",
    "\n",
    "    def detach_params(self):\n",
    "        for name, param in self.named_params(self):\n",
    "            self.set_param(self, name, param.detach())\n",
    "\n",
    "    def copy(self, other, same_var=False):\n",
    "        for name, param in other.named_params():\n",
    "            if not same_var:\n",
    "                param = self.to_var(param.data.clone(), requires_grad=True)\n",
    "            self.set_param(name, param)"
   ]
  },
  {
   "cell_type": "code",
   "execution_count": 6,
   "metadata": {},
   "outputs": [],
   "source": [
    "g = GATConv(3, 1)\n",
    "n = GCNConv(3, 1)"
   ]
  },
  {
   "cell_type": "code",
   "execution_count": 7,
   "metadata": {},
   "outputs": [
    {
     "name": "stdout",
     "output_type": "stream",
     "text": [
      "bias\n",
      "Parameter containing:\n",
      "tensor([0.], requires_grad=True)\n",
      "lin.weight\n",
      "Parameter containing:\n",
      "tensor([[-0.8139,  0.8214, -0.0269]], requires_grad=True)\n"
     ]
    }
   ],
   "source": [
    "for n, p in n.named_parameters():\n",
    "    print(n)\n",
    "    print(p)"
   ]
  },
  {
   "cell_type": "code",
   "execution_count": 4,
   "metadata": {},
   "outputs": [
    {
     "name": "stdout",
     "output_type": "stream",
     "text": [
      "att_src\n",
      "Parameter containing:\n",
      "tensor([[[-0.2089]]], requires_grad=True)\n",
      "att_dst\n",
      "Parameter containing:\n",
      "tensor([[[1.5129]]], requires_grad=True)\n",
      "bias\n",
      "Parameter containing:\n",
      "tensor([0.], requires_grad=True)\n",
      "lin_src.weight\n",
      "Parameter containing:\n",
      "tensor([[ 0.1886,  0.0371, -1.0170]], requires_grad=True)\n"
     ]
    }
   ],
   "source": [
    "for n, p in g.named_parameters():\n",
    "    print(n)\n",
    "    print(p)"
   ]
  },
  {
   "cell_type": "code",
   "execution_count": 34,
   "metadata": {},
   "outputs": [],
   "source": [
    "class MetaGCN(MetaModule):\n",
    "    def __init__(\n",
    "        self, \n",
    "        in_channel: int,\n",
    "        out_channel: int\n",
    "    ) -> None:\n",
    "        super().__init__()\n",
    "        ignore = GCNConv(in_channel, out_channel)\n",
    "        self.register_buffer('weight', self.to_var(ignore.lin.weight, requires_grad=True))\n",
    "        self.register_buffer('bias', self.to_var(ignore.bias, requires_grad=True))\n",
    "        print(self.weight.shape[0])\n",
    "        print(self.weight.shape[1])\n",
    "        self.gcn = [GCNConv(self.weight.shape[1], self.weight.shape[0], self.weight, self.bias)]\n",
    "\n",
    "    def forward(self, x, edge_index):\n",
    "        return self.gcn[0](x, edge_index)\n",
    "\n",
    "    def named_leaves(self):\n",
    "        return [('weight', self.weight), ('bias', self.bias)]"
   ]
  },
  {
   "cell_type": "code",
   "execution_count": 37,
   "metadata": {},
   "outputs": [
    {
     "name": "stdout",
     "output_type": "stream",
     "text": [
      "2\n",
      "6\n"
     ]
    }
   ],
   "source": [
    "model = MetaGCN(6, 2)"
   ]
  },
  {
   "cell_type": "code",
   "execution_count": 30,
   "metadata": {},
   "outputs": [],
   "source": [
    "t = GCNConv(3, 1)"
   ]
  },
  {
   "cell_type": "code",
   "execution_count": 9,
   "metadata": {},
   "outputs": [],
   "source": [
    "class MetaLinear(MetaModule):\n",
    "    def __init__(\n",
    "        self,\n",
    "        num_features: int,\n",
    "        embedding_dim: int\n",
    "    ) -> None:\n",
    "        super().__init__()\n",
    "        ignore = nn.Linear(num_features, embedding_dim)\n",
    "\n",
    "        self.register_buffer('weight', self.to_var(ignore.weight, requires_grad=True))\n",
    "        self.register_buffer('bias', self.to_var(ignore.bias, requires_grad=True))\n",
    "        \n",
    "    def forward(self, x):\n",
    "        return F.linear(x, self.weight, self.bias)\n",
    "\n",
    "    def named_leaves(self):\n",
    "        return [('weight', self.weight), ('bias', self.bias)]"
   ]
  },
  {
   "cell_type": "code",
   "execution_count": 10,
   "metadata": {},
   "outputs": [],
   "source": [
    "l = MetaLinear(4, 1)"
   ]
  },
  {
   "cell_type": "code",
   "execution_count": 41,
   "metadata": {},
   "outputs": [],
   "source": [
    "x = torch.randint(10, 20, size=(1,4), dtype=torch.float32)\n",
    "o = l(x)"
   ]
  },
  {
   "cell_type": "code",
   "execution_count": 34,
   "metadata": {},
   "outputs": [],
   "source": [
    "ignore = nn.Linear(4, 1)"
   ]
  },
  {
   "cell_type": "code",
   "execution_count": 43,
   "metadata": {},
   "outputs": [],
   "source": [
    "z = ignore(x)"
   ]
  }
 ],
 "metadata": {
  "kernelspec": {
   "display_name": "graph",
   "language": "python",
   "name": "python3"
  },
  "language_info": {
   "codemirror_mode": {
    "name": "ipython",
    "version": 3
   },
   "file_extension": ".py",
   "mimetype": "text/x-python",
   "name": "python",
   "nbconvert_exporter": "python",
   "pygments_lexer": "ipython3",
   "version": "3.10.14"
  }
 },
 "nbformat": 4,
 "nbformat_minor": 2
}
