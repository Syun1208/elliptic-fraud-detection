{
 "cells": [
  {
   "cell_type": "code",
   "execution_count": 1,
   "metadata": {},
   "outputs": [],
   "source": [
    "import warnings\n",
    "\n",
    "warnings.filterwarnings('ignore')"
   ]
  },
  {
   "cell_type": "code",
   "execution_count": 2,
   "metadata": {},
   "outputs": [
    {
     "data": {
      "text/html": [
       "\n",
       "\t\t\t<script type=\"text/javascript\">\n",
       "\t\t\t<!--\n",
       "\t\t\t\t\n",
       "\t\t\t{\n",
       "\t\t\t\tvar element = document.getElementById('NetworKit_script');\n",
       "\t\t\t\tif (element) {\n",
       "\t\t\t\t\telement.parentNode.removeChild(element);\n",
       "\t\t\t\t}\n",
       "\t\t\t\telement = document.createElement('script');\n",
       "\t\t\t\telement.type = 'text/javascript';\n",
       "\t\t\t\telement.innerHTML = 'function NetworKit_pageEmbed(id) { var i, j; var elements; elements = document.getElementById(id).getElementsByClassName(\"Plot\"); for (i=0; i<elements.length; i++) { elements[i].id = id + \"_Plot_\" + i; var data = elements[i].getAttribute(\"data-image\").split(\"|\"); elements[i].removeAttribute(\"data-image\"); var content = \"<div class=\\\\\"Image\\\\\" id=\\\\\"\" + elements[i].id + \"_Image\\\\\" />\"; elements[i].innerHTML = content; elements[i].setAttribute(\"data-image-index\", 0); elements[i].setAttribute(\"data-image-length\", data.length); for (j=0; j<data.length; j++) { elements[i].setAttribute(\"data-image-\" + j, data[j]); } NetworKit_plotUpdate(elements[i]); elements[i].onclick = function (e) { NetworKit_overlayShow((e.target) ? e.target : e.srcElement); } } elements = document.getElementById(id).getElementsByClassName(\"HeatCell\"); for (i=0; i<elements.length; i++) { var data = parseFloat(elements[i].getAttribute(\"data-heat\")); var color = \"#00FF00\"; if (data <= 1 && data > 0) { color = \"hsla(0, 100%, 75%, \" + (data) + \")\"; } else if (data <= 0 && data >= -1) { color = \"hsla(240, 100%, 75%, \" + (-data) + \")\"; } elements[i].style.backgroundColor = color; } elements = document.getElementById(id).getElementsByClassName(\"Details\"); for (i=0; i<elements.length; i++) { elements[i].setAttribute(\"data-title\", \"-\"); NetworKit_toggleDetails(elements[i]); elements[i].onclick = function (e) { NetworKit_toggleDetails((e.target) ? e.target : e.srcElement); } } elements = document.getElementById(id).getElementsByClassName(\"MathValue\"); for (i=elements.length-1; i>=0; i--) { value = elements[i].innerHTML.trim(); if (value === \"nan\") { elements[i].parentNode.innerHTML = \"\" } } elements = document.getElementById(id).getElementsByClassName(\"SubCategory\"); for (i=elements.length-1; i>=0; i--) { value = elements[i].innerHTML.trim(); if (value === \"\") { elements[i].parentNode.removeChild(elements[i]) } } elements = document.getElementById(id).getElementsByClassName(\"Category\"); for (i=elements.length-1; i>=0; i--) { value = elements[i].innerHTML.trim(); if (value === \"\") { elements[i].parentNode.removeChild(elements[i]) } } var isFirefox = false; try { isFirefox = typeof InstallTrigger !== \"undefined\"; } catch (e) {} if (!isFirefox) { alert(\"Currently the function\\'s output is only fully supported by Firefox.\"); } } function NetworKit_plotUpdate(source) { var index = source.getAttribute(\"data-image-index\"); var data = source.getAttribute(\"data-image-\" + index); var image = document.getElementById(source.id + \"_Image\"); image.style.backgroundImage = \"url(\" + data + \")\"; } function NetworKit_showElement(id, show) { var element = document.getElementById(id); element.style.display = (show) ? \"block\" : \"none\"; } function NetworKit_overlayShow(source) { NetworKit_overlayUpdate(source); NetworKit_showElement(\"NetworKit_Overlay\", true); } function NetworKit_overlayUpdate(source) { document.getElementById(\"NetworKit_Overlay_Title\").innerHTML = source.title; var index = source.getAttribute(\"data-image-index\"); var data = source.getAttribute(\"data-image-\" + index); var image = document.getElementById(\"NetworKit_Overlay_Image\"); image.setAttribute(\"data-id\", source.id); image.style.backgroundImage = \"url(\" + data + \")\"; var link = document.getElementById(\"NetworKit_Overlay_Toolbar_Bottom_Save\"); link.href = data; link.download = source.title + \".svg\"; } function NetworKit_overlayImageShift(delta) { var image = document.getElementById(\"NetworKit_Overlay_Image\"); var source = document.getElementById(image.getAttribute(\"data-id\")); var index = parseInt(source.getAttribute(\"data-image-index\")); var length = parseInt(source.getAttribute(\"data-image-length\")); var index = (index+delta) % length; if (index < 0) { index = length + index; } source.setAttribute(\"data-image-index\", index); NetworKit_overlayUpdate(source); } function NetworKit_toggleDetails(source) { var childs = source.children; var show = false; if (source.getAttribute(\"data-title\") == \"-\") { source.setAttribute(\"data-title\", \"+\"); show = false; } else { source.setAttribute(\"data-title\", \"-\"); show = true; } for (i=0; i<childs.length; i++) { if (show) { childs[i].style.display = \"block\"; } else { childs[i].style.display = \"none\"; } } }';\n",
       "\t\t\t\telement.setAttribute('id', 'NetworKit_script');\n",
       "\t\t\t\tdocument.head.appendChild(element);\n",
       "\t\t\t}\n",
       "\t\t\n",
       "\t\t\t\t\n",
       "\t\t\t{\n",
       "\t\t\t\tvar element = document.getElementById('NetworKit_style');\n",
       "\t\t\t\tif (element) {\n",
       "\t\t\t\t\telement.parentNode.removeChild(element);\n",
       "\t\t\t\t}\n",
       "\t\t\t\telement = document.createElement('style');\n",
       "\t\t\t\telement.type = 'text/css';\n",
       "\t\t\t\telement.innerHTML = '.NetworKit_Page { font-family: Arial, Helvetica, sans-serif; font-size: 14px; } .NetworKit_Page .Value:before { font-family: Arial, Helvetica, sans-serif; font-size: 1.05em; content: attr(data-title) \":\"; margin-left: -2.5em; padding-right: 0.5em; } .NetworKit_Page .Details .Value:before { display: block; } .NetworKit_Page .Value { font-family: monospace; white-space: pre; padding-left: 2.5em; white-space: -moz-pre-wrap !important; white-space: -pre-wrap; white-space: -o-pre-wrap; white-space: pre-wrap; word-wrap: break-word; tab-size: 4; -moz-tab-size: 4; } .NetworKit_Page .Category { clear: both; padding-left: 1em; margin-bottom: 1.5em; } .NetworKit_Page .Category:before { content: attr(data-title); font-size: 1.75em; display: block; margin-left: -0.8em; margin-bottom: 0.5em; } .NetworKit_Page .SubCategory { margin-bottom: 1.5em; padding-left: 1em; } .NetworKit_Page .SubCategory:before { font-size: 1.6em; display: block; margin-left: -0.8em; margin-bottom: 0.5em; } .NetworKit_Page .SubCategory[data-title]:before { content: attr(data-title); } .NetworKit_Page .Block { display: block; } .NetworKit_Page .Block:after { content: \".\"; visibility: hidden; display: block; height: 0; clear: both; } .NetworKit_Page .Block .Thumbnail_Overview, .NetworKit_Page .Block .Thumbnail_ScatterPlot { width: 260px; float: left; } .NetworKit_Page .Block .Thumbnail_Overview img, .NetworKit_Page .Block .Thumbnail_ScatterPlot img { width: 260px; } .NetworKit_Page .Block .Thumbnail_Overview:before, .NetworKit_Page .Block .Thumbnail_ScatterPlot:before { display: block; text-align: center; font-weight: bold; } .NetworKit_Page .Block .Thumbnail_Overview:before { content: attr(data-title); } .NetworKit_Page .HeatCell { font-family: \"Courier New\", Courier, monospace; cursor: pointer; } .NetworKit_Page .HeatCell, .NetworKit_Page .HeatCellName { display: inline; padding: 0.1em; margin-right: 2px; background-color: #FFFFFF } .NetworKit_Page .HeatCellName { margin-left: 0.25em; } .NetworKit_Page .HeatCell:before { content: attr(data-heat); display: inline-block; color: #000000; width: 4em; text-align: center; } .NetworKit_Page .Measure { clear: both; } .NetworKit_Page .Measure .Details { cursor: pointer; } .NetworKit_Page .Measure .Details:before { content: \"[\" attr(data-title) \"]\"; display: block; } .NetworKit_Page .Measure .Details .Value { border-left: 1px dotted black; margin-left: 0.4em; padding-left: 3.5em; pointer-events: none; } .NetworKit_Page .Measure .Details .Spacer:before { content: \".\"; opacity: 0.0; pointer-events: none; } .NetworKit_Page .Measure .Plot { width: 440px; height: 440px; cursor: pointer; float: left; margin-left: -0.9em; margin-right: 20px; } .NetworKit_Page .Measure .Plot .Image { background-repeat: no-repeat; background-position: center center; background-size: contain; height: 100%; pointer-events: none; } .NetworKit_Page .Measure .Stat { width: 500px; float: left; } .NetworKit_Page .Measure .Stat .Group { padding-left: 1.25em; margin-bottom: 0.75em; } .NetworKit_Page .Measure .Stat .Group .Title { font-size: 1.1em; display: block; margin-bottom: 0.3em; margin-left: -0.75em; border-right-style: dotted; border-right-width: 1px; border-bottom-style: dotted; border-bottom-width: 1px; background-color: #D0D0D0; padding-left: 0.2em; } .NetworKit_Page .Measure .Stat .Group .List { -webkit-column-count: 3; -moz-column-count: 3; column-count: 3; } .NetworKit_Page .Measure .Stat .Group .List .Entry { position: relative; line-height: 1.75em; } .NetworKit_Page .Measure .Stat .Group .List .Entry[data-tooltip]:before { position: absolute; left: 0; top: -40px; background-color: #808080; color: #ffffff; height: 30px; line-height: 30px; border-radius: 5px; padding: 0 15px; content: attr(data-tooltip); white-space: nowrap; display: none; } .NetworKit_Page .Measure .Stat .Group .List .Entry[data-tooltip]:after { position: absolute; left: 15px; top: -10px; border-top: 7px solid #808080; border-left: 7px solid transparent; border-right: 7px solid transparent; content: \"\"; display: none; } .NetworKit_Page .Measure .Stat .Group .List .Entry[data-tooltip]:hover:after, .NetworKit_Page .Measure .Stat .Group .List .Entry[data-tooltip]:hover:before { display: block; } .NetworKit_Page .Measure .Stat .Group .List .Entry .MathValue { font-family: \"Courier New\", Courier, monospace; } .NetworKit_Page .Measure:after { content: \".\"; visibility: hidden; display: block; height: 0; clear: both; } .NetworKit_Page .PartitionPie { clear: both; } .NetworKit_Page .PartitionPie img { width: 600px; } #NetworKit_Overlay { left: 0px; top: 0px; display: none; position: absolute; width: 100%; height: 100%; background-color: rgba(0,0,0,0.6); z-index: 1000; } #NetworKit_Overlay_Title { position: absolute; color: white; transform: rotate(-90deg); width: 32em; height: 32em; padding-right: 0.5em; padding-top: 0.5em; text-align: right; font-size: 40px; } #NetworKit_Overlay .button { background: white; cursor: pointer; } #NetworKit_Overlay .button:before { size: 13px; display: inline-block; text-align: center; margin-top: 0.5em; margin-bottom: 0.5em; width: 1.5em; height: 1.5em; } #NetworKit_Overlay .icon-close:before { content: \"X\"; } #NetworKit_Overlay .icon-previous:before { content: \"P\"; } #NetworKit_Overlay .icon-next:before { content: \"N\"; } #NetworKit_Overlay .icon-save:before { content: \"S\"; } #NetworKit_Overlay_Toolbar_Top, #NetworKit_Overlay_Toolbar_Bottom { position: absolute; width: 40px; right: 13px; text-align: right; z-index: 1100; } #NetworKit_Overlay_Toolbar_Top { top: 0.5em; } #NetworKit_Overlay_Toolbar_Bottom { Bottom: 0.5em; } #NetworKit_Overlay_ImageContainer { position: absolute; top: 5%; left: 5%; height: 90%; width: 90%; background-repeat: no-repeat; background-position: center center; background-size: contain; } #NetworKit_Overlay_Image { height: 100%; width: 100%; background-repeat: no-repeat; background-position: center center; background-size: contain; }';\n",
       "\t\t\t\telement.setAttribute('id', 'NetworKit_style');\n",
       "\t\t\t\tdocument.head.appendChild(element);\n",
       "\t\t\t}\n",
       "\t\t\n",
       "\t\t\t\t\n",
       "\t\t\t{\n",
       "\t\t\t\tvar element = document.getElementById('NetworKit_Overlay');\n",
       "\t\t\t\tif (element) {\n",
       "\t\t\t\t\telement.parentNode.removeChild(element);\n",
       "\t\t\t\t}\n",
       "\t\t\t\telement = document.createElement('div');\n",
       "\t\t\t\telement.innerHTML = '<div id=\"NetworKit_Overlay_Toolbar_Top\"><div class=\"button icon-close\" id=\"NetworKit_Overlay_Close\" /></div><div id=\"NetworKit_Overlay_Title\" /> <div id=\"NetworKit_Overlay_ImageContainer\"> <div id=\"NetworKit_Overlay_Image\" /> </div> <div id=\"NetworKit_Overlay_Toolbar_Bottom\"> <div class=\"button icon-previous\" onclick=\"NetworKit_overlayImageShift(-1)\" /> <div class=\"button icon-next\" onclick=\"NetworKit_overlayImageShift(1)\" /> <a id=\"NetworKit_Overlay_Toolbar_Bottom_Save\"><div class=\"button icon-save\" /></a> </div>';\n",
       "\t\t\t\telement.setAttribute('id', 'NetworKit_Overlay');\n",
       "\t\t\t\tdocument.body.appendChild(element);\n",
       "\t\t\t\tdocument.getElementById('NetworKit_Overlay_Close').onclick = function (e) {\n",
       "\t\t\t\t\tdocument.getElementById('NetworKit_Overlay').style.display = 'none';\n",
       "\t\t\t\t}\n",
       "\t\t\t}\n",
       "\t\t\n",
       "\t\t\t-->\n",
       "\t\t\t</script>\n",
       "\t\t"
      ]
     },
     "metadata": {},
     "output_type": "display_data"
    }
   ],
   "source": [
    "import torch\n",
    "from torch_geometric.data import Data\n",
    "import networkx as nx\n",
    "import networkit as nk\n",
    "import numpy as np\n",
    "import polars as pl"
   ]
  },
  {
   "cell_type": "code",
   "execution_count": 36,
   "metadata": {},
   "outputs": [],
   "source": [
    "import torch.nn as nn\n",
    "import torch"
   ]
  },
  {
   "cell_type": "code",
   "execution_count": 3,
   "metadata": {},
   "outputs": [],
   "source": [
    "import polars as pl\n",
    "import matplotlib.pyplot as plt\n",
    "import seaborn as sns\n",
    "import numpy as np\n",
    "import plotly.express as px\n",
    "from plotly.subplots import make_subplots\n",
    "import plotly.graph_objects as go\n",
    "import igraph as ig\n",
    "from torch_geometric.loader import NeighborLoader\n",
    "import tqdm\n",
    "from multiprocessing import Pool"
   ]
  },
  {
   "cell_type": "code",
   "execution_count": 4,
   "metadata": {},
   "outputs": [],
   "source": [
    "import os\n",
    "import sys\n",
    "\n",
    "sys.path.append('../')\n",
    "sys.path.append('/Users/phamminhlong/Desktop/paper')"
   ]
  },
  {
   "cell_type": "code",
   "execution_count": 5,
   "metadata": {},
   "outputs": [],
   "source": [
    "ROOT = os.getcwd()\n",
    "WORK_DIR = os.path.dirname(os.path.dirname(ROOT))"
   ]
  },
  {
   "cell_type": "markdown",
   "metadata": {},
   "source": [
    "## ***Test code***"
   ]
  },
  {
   "cell_type": "code",
   "execution_count": 6,
   "metadata": {},
   "outputs": [],
   "source": [
    "FIRST_FEAT_NAME = {\n",
    "        'column_1': 'transid',\n",
    "        'column_2': 'time_steps',\n",
    "}"
   ]
  },
  {
   "cell_type": "code",
   "execution_count": 7,
   "metadata": {},
   "outputs": [],
   "source": [
    "df_classes = pl.read_csv(os.path.join(WORK_DIR, 'data/elliptic_bitcoin_dataset/elliptic_txs_classes.csv'), new_columns=['transid', 'class'])\n",
    "df_edgelist = pl.read_csv(os.path.join(WORK_DIR, 'data/elliptic_bitcoin_dataset/elliptic_txs_edgelist.csv'), new_columns=['current_transid', 'next_transid'])\n",
    "df_features = pl.read_csv(os.path.join(WORK_DIR, 'data/elliptic_bitcoin_dataset/elliptic_txs_features.csv'), has_header=False)"
   ]
  },
  {
   "cell_type": "code",
   "execution_count": 8,
   "metadata": {},
   "outputs": [],
   "source": [
    "from src.service.data_loader import EllipticLoader\n",
    "from src.service.graph_model import GAT"
   ]
  },
  {
   "cell_type": "code",
   "execution_count": 9,
   "metadata": {},
   "outputs": [],
   "source": [
    "e = EllipticLoader(\n",
    "    path_classes='data/elliptic_bitcoin_dataset/elliptic_txs_classes.csv',\n",
    "    path_edgelist='data/elliptic_bitcoin_dataset/elliptic_txs_edgelist.csv',\n",
    "    path_features='data/elliptic_bitcoin_dataset/elliptic_txs_features.csv'   \n",
    ")"
   ]
  },
  {
   "cell_type": "code",
   "execution_count": 37,
   "metadata": {},
   "outputs": [],
   "source": [
    "hidden_dim=64\n",
    "embedding_dim=128\n",
    "n_layers=3\n",
    "n_features=166\n",
    "output_dim=1\n",
    "dropout_rate=0.6\n",
    "heads=5\n",
    "batch_size=128\n",
    "lr=1e-5"
   ]
  },
  {
   "cell_type": "code",
   "execution_count": 16,
   "metadata": {},
   "outputs": [],
   "source": [
    "gat = GAT(\n",
    "    num_features=n_features,\n",
    "    hidden_dim=hidden_dim,\n",
    "    embedding_dim=embedding_dim,\n",
    "    output_dim=output_dim,\n",
    "    n_layers=n_layers,\n",
    "    heads=heads,\n",
    "    dropout_rate=dropout_rate\n",
    ")"
   ]
  },
  {
   "cell_type": "code",
   "execution_count": 17,
   "metadata": {},
   "outputs": [
    {
     "name": "stdout",
     "output_type": "stream",
     "text": [
      "\u001b[35m2024-06-23 12:17:46,733\u001b[0m - \u001b[34msrc.utils.timer\u001b[0m - \u001b[32mINFO\u001b[0m - \u001b[32mDONE PROCESS PHASE ELLIPTIC LOADER IN 0.4786s\u001b[0m\n"
     ]
    },
    {
     "name": "stderr",
     "output_type": "stream",
     "text": [
      "INFO:src.utils.timer:DONE PROCESS PHASE ELLIPTIC LOADER IN 0.4786s\n"
     ]
    }
   ],
   "source": [
    "data = e.load()"
   ]
  },
  {
   "cell_type": "code",
   "execution_count": 18,
   "metadata": {},
   "outputs": [],
   "source": [
    "loader = NeighborLoader(\n",
    "                data=data.get_network_torch(), \n",
    "                num_neighbors=[-1]*gat.n_layers, \n",
    "                input_nodes=data.train_mask, \n",
    "                batch_size=batch_size, \n",
    "                shuffle=True, \n",
    "                num_workers=Pool()._processes\n",
    "            )"
   ]
  },
  {
   "cell_type": "code",
   "execution_count": 28,
   "metadata": {},
   "outputs": [],
   "source": [
    "data.get_network_torch().x = data.get_network_torch().x[:, 1:94]"
   ]
  },
  {
   "cell_type": "code",
   "execution_count": 30,
   "metadata": {},
   "outputs": [
    {
     "data": {
      "text/plain": [
       "torch.Size([203769, 166])"
      ]
     },
     "execution_count": 30,
     "metadata": {},
     "output_type": "execute_result"
    }
   ],
   "source": [
    "data.get_network_torch().x.shape"
   ]
  },
  {
   "cell_type": "code",
   "execution_count": 41,
   "metadata": {},
   "outputs": [
    {
     "name": "stdout",
     "output_type": "stream",
     "text": [
      "tensor(0.4920, grad_fn=<NllLossBackward0>)\n",
      "tensor(0.4951, grad_fn=<NllLossBackward0>)\n",
      "tensor(0.5210, grad_fn=<NllLossBackward0>)\n",
      "tensor(0.5187, grad_fn=<NllLossBackward0>)\n",
      "tensor(0.4915, grad_fn=<NllLossBackward0>)\n",
      "tensor(0.4934, grad_fn=<NllLossBackward0>)\n",
      "tensor(0.4916, grad_fn=<NllLossBackward0>)\n",
      "tensor(0.5092, grad_fn=<NllLossBackward0>)\n",
      "tensor(0.4992, grad_fn=<NllLossBackward0>)\n",
      "tensor(0.5064, grad_fn=<NllLossBackward0>)\n",
      "tensor(0.4523, grad_fn=<NllLossBackward0>)\n",
      "tensor(0.4859, grad_fn=<NllLossBackward0>)\n",
      "tensor(0.5270, grad_fn=<NllLossBackward0>)\n",
      "tensor(0.4992, grad_fn=<NllLossBackward0>)\n",
      "tensor(0.5381, grad_fn=<NllLossBackward0>)\n",
      "tensor(0.4710, grad_fn=<NllLossBackward0>)\n",
      "tensor(0.4527, grad_fn=<NllLossBackward0>)\n",
      "tensor(0.4835, grad_fn=<NllLossBackward0>)\n",
      "tensor(0.5016, grad_fn=<NllLossBackward0>)\n",
      "tensor(0.5121, grad_fn=<NllLossBackward0>)\n",
      "tensor(0.4895, grad_fn=<NllLossBackward0>)\n",
      "tensor(0.5068, grad_fn=<NllLossBackward0>)\n",
      "tensor(0.4950, grad_fn=<NllLossBackward0>)\n",
      "tensor(0.5372, grad_fn=<NllLossBackward0>)\n",
      "tensor(0.5004, grad_fn=<NllLossBackward0>)\n",
      "tensor(0.5043, grad_fn=<NllLossBackward0>)\n",
      "tensor(0.4964, grad_fn=<NllLossBackward0>)\n",
      "tensor(0.5040, grad_fn=<NllLossBackward0>)\n",
      "tensor(0.4809, grad_fn=<NllLossBackward0>)\n",
      "tensor(0.4931, grad_fn=<NllLossBackward0>)\n",
      "tensor(0.4925, grad_fn=<NllLossBackward0>)\n",
      "tensor(0.5330, grad_fn=<NllLossBackward0>)\n",
      "tensor(0.4729, grad_fn=<NllLossBackward0>)\n",
      "tensor(0.4741, grad_fn=<NllLossBackward0>)\n",
      "tensor(0.4464, grad_fn=<NllLossBackward0>)\n",
      "tensor(0.4631, grad_fn=<NllLossBackward0>)\n",
      "tensor(0.5020, grad_fn=<NllLossBackward0>)\n",
      "tensor(0.4672, grad_fn=<NllLossBackward0>)\n",
      "tensor(0.4656, grad_fn=<NllLossBackward0>)\n",
      "tensor(0.4689, grad_fn=<NllLossBackward0>)\n",
      "tensor(0.4944, grad_fn=<NllLossBackward0>)\n",
      "tensor(0.5010, grad_fn=<NllLossBackward0>)\n",
      "tensor(0.4641, grad_fn=<NllLossBackward0>)\n",
      "tensor(0.4276, grad_fn=<NllLossBackward0>)\n",
      "tensor(0.4655, grad_fn=<NllLossBackward0>)\n",
      "tensor(0.4413, grad_fn=<NllLossBackward0>)\n",
      "tensor(0.4851, grad_fn=<NllLossBackward0>)\n",
      "tensor(0.4704, grad_fn=<NllLossBackward0>)\n",
      "tensor(0.5283, grad_fn=<NllLossBackward0>)\n",
      "tensor(0.4771, grad_fn=<NllLossBackward0>)\n",
      "tensor(0.4721, grad_fn=<NllLossBackward0>)\n",
      "tensor(0.4941, grad_fn=<NllLossBackward0>)\n",
      "tensor(0.5002, grad_fn=<NllLossBackward0>)\n",
      "tensor(0.4433, grad_fn=<NllLossBackward0>)\n",
      "tensor(0.4511, grad_fn=<NllLossBackward0>)\n",
      "tensor(0.4792, grad_fn=<NllLossBackward0>)\n",
      "tensor(0.4569, grad_fn=<NllLossBackward0>)\n",
      "tensor(0.4623, grad_fn=<NllLossBackward0>)\n",
      "tensor(0.5259, grad_fn=<NllLossBackward0>)\n",
      "tensor(0.4646, grad_fn=<NllLossBackward0>)\n",
      "tensor(0.4145, grad_fn=<NllLossBackward0>)\n",
      "tensor(0.4562, grad_fn=<NllLossBackward0>)\n",
      "tensor(0.4566, grad_fn=<NllLossBackward0>)\n",
      "tensor(0.4687, grad_fn=<NllLossBackward0>)\n",
      "tensor(0.4678, grad_fn=<NllLossBackward0>)\n",
      "tensor(0.4673, grad_fn=<NllLossBackward0>)\n",
      "tensor(0.4420, grad_fn=<NllLossBackward0>)\n",
      "tensor(0.4580, grad_fn=<NllLossBackward0>)\n",
      "tensor(0.4623, grad_fn=<NllLossBackward0>)\n",
      "tensor(0.4399, grad_fn=<NllLossBackward0>)\n",
      "tensor(0.5109, grad_fn=<NllLossBackward0>)\n",
      "tensor(0.4585, grad_fn=<NllLossBackward0>)\n",
      "tensor(0.4731, grad_fn=<NllLossBackward0>)\n",
      "tensor(0.4367, grad_fn=<NllLossBackward0>)\n",
      "tensor(0.4429, grad_fn=<NllLossBackward0>)\n",
      "tensor(0.4401, grad_fn=<NllLossBackward0>)\n",
      "tensor(0.5235, grad_fn=<NllLossBackward0>)\n",
      "tensor(0.4861, grad_fn=<NllLossBackward0>)\n",
      "tensor(0.4523, grad_fn=<NllLossBackward0>)\n",
      "tensor(0.4883, grad_fn=<NllLossBackward0>)\n",
      "tensor(0.4725, grad_fn=<NllLossBackward0>)\n",
      "tensor(0.4615, grad_fn=<NllLossBackward0>)\n",
      "tensor(0.4589, grad_fn=<NllLossBackward0>)\n",
      "tensor(0.4916, grad_fn=<NllLossBackward0>)\n",
      "tensor(0.4472, grad_fn=<NllLossBackward0>)\n",
      "tensor(0.4815, grad_fn=<NllLossBackward0>)\n",
      "tensor(0.4692, grad_fn=<NllLossBackward0>)\n",
      "tensor(0.4143, grad_fn=<NllLossBackward0>)\n",
      "tensor(0.4848, grad_fn=<NllLossBackward0>)\n",
      "tensor(0.4410, grad_fn=<NllLossBackward0>)\n",
      "tensor(0.4754, grad_fn=<NllLossBackward0>)\n",
      "tensor(0.4691, grad_fn=<NllLossBackward0>)\n",
      "tensor(0.4839, grad_fn=<NllLossBackward0>)\n",
      "tensor(0.4266, grad_fn=<NllLossBackward0>)\n",
      "tensor(0.4751, grad_fn=<NllLossBackward0>)\n",
      "tensor(0.4182, grad_fn=<NllLossBackward0>)\n",
      "tensor(0.4323, grad_fn=<NllLossBackward0>)\n",
      "tensor(0.4725, grad_fn=<NllLossBackward0>)\n",
      "tensor(0.4419, grad_fn=<NllLossBackward0>)\n",
      "tensor(0.4398, grad_fn=<NllLossBackward0>)\n",
      "tensor(0.4525, grad_fn=<NllLossBackward0>)\n",
      "tensor(0.4131, grad_fn=<NllLossBackward0>)\n",
      "tensor(0.4460, grad_fn=<NllLossBackward0>)\n",
      "tensor(0.4232, grad_fn=<NllLossBackward0>)\n",
      "tensor(0.4719, grad_fn=<NllLossBackward0>)\n",
      "tensor(0.4686, grad_fn=<NllLossBackward0>)\n",
      "tensor(0.4572, grad_fn=<NllLossBackward0>)\n",
      "tensor(0.4553, grad_fn=<NllLossBackward0>)\n",
      "tensor(0.4388, grad_fn=<NllLossBackward0>)\n",
      "tensor(0.4419, grad_fn=<NllLossBackward0>)\n",
      "tensor(0.4712, grad_fn=<NllLossBackward0>)\n",
      "tensor(0.4594, grad_fn=<NllLossBackward0>)\n",
      "tensor(0.4661, grad_fn=<NllLossBackward0>)\n",
      "tensor(0.4555, grad_fn=<NllLossBackward0>)\n",
      "tensor(0.4995, grad_fn=<NllLossBackward0>)\n",
      "tensor(0.4368, grad_fn=<NllLossBackward0>)\n",
      "tensor(0.4351, grad_fn=<NllLossBackward0>)\n",
      "tensor(0.4319, grad_fn=<NllLossBackward0>)\n",
      "tensor(0.4546, grad_fn=<NllLossBackward0>)\n",
      "tensor(0.4473, grad_fn=<NllLossBackward0>)\n",
      "tensor(0.4181, grad_fn=<NllLossBackward0>)\n",
      "tensor(0.4515, grad_fn=<NllLossBackward0>)\n",
      "tensor(0.4637, grad_fn=<NllLossBackward0>)\n",
      "tensor(0.4205, grad_fn=<NllLossBackward0>)\n",
      "tensor(0.4416, grad_fn=<NllLossBackward0>)\n",
      "tensor(0.4321, grad_fn=<NllLossBackward0>)\n",
      "tensor(0.4382, grad_fn=<NllLossBackward0>)\n",
      "tensor(0.4220, grad_fn=<NllLossBackward0>)\n",
      "tensor(0.4358, grad_fn=<NllLossBackward0>)\n",
      "tensor(0.4363, grad_fn=<NllLossBackward0>)\n",
      "tensor(0.4300, grad_fn=<NllLossBackward0>)\n",
      "tensor(0.4834, grad_fn=<NllLossBackward0>)\n",
      "tensor(0.4572, grad_fn=<NllLossBackward0>)\n",
      "tensor(0.4801, grad_fn=<NllLossBackward0>)\n",
      "tensor(0.4552, grad_fn=<NllLossBackward0>)\n",
      "tensor(0.4416, grad_fn=<NllLossBackward0>)\n",
      "tensor(0.4908, grad_fn=<NllLossBackward0>)\n",
      "tensor(0.4383, grad_fn=<NllLossBackward0>)\n",
      "tensor(0.4393, grad_fn=<NllLossBackward0>)\n",
      "tensor(0.4197, grad_fn=<NllLossBackward0>)\n",
      "tensor(0.4761, grad_fn=<NllLossBackward0>)\n",
      "tensor(0.4492, grad_fn=<NllLossBackward0>)\n",
      "tensor(0.4276, grad_fn=<NllLossBackward0>)\n",
      "tensor(0.4063, grad_fn=<NllLossBackward0>)\n",
      "tensor(0.4305, grad_fn=<NllLossBackward0>)\n",
      "tensor(0.4576, grad_fn=<NllLossBackward0>)\n",
      "tensor(0.4191, grad_fn=<NllLossBackward0>)\n",
      "tensor(0.4476, grad_fn=<NllLossBackward0>)\n",
      "tensor(0.4283, grad_fn=<NllLossBackward0>)\n",
      "tensor(0.4647, grad_fn=<NllLossBackward0>)\n",
      "tensor(0.4661, grad_fn=<NllLossBackward0>)\n",
      "tensor(0.4776, grad_fn=<NllLossBackward0>)\n",
      "tensor(0.4490, grad_fn=<NllLossBackward0>)\n",
      "tensor(0.4668, grad_fn=<NllLossBackward0>)\n",
      "tensor(0.4516, grad_fn=<NllLossBackward0>)\n",
      "tensor(0.4341, grad_fn=<NllLossBackward0>)\n",
      "tensor(0.4249, grad_fn=<NllLossBackward0>)\n",
      "tensor(0.4152, grad_fn=<NllLossBackward0>)\n",
      "tensor(0.4195, grad_fn=<NllLossBackward0>)\n",
      "tensor(0.4011, grad_fn=<NllLossBackward0>)\n",
      "tensor(0.4676, grad_fn=<NllLossBackward0>)\n",
      "tensor(0.4145, grad_fn=<NllLossBackward0>)\n",
      "tensor(0.4229, grad_fn=<NllLossBackward0>)\n",
      "tensor(0.3897, grad_fn=<NllLossBackward0>)\n",
      "tensor(0.4492, grad_fn=<NllLossBackward0>)\n",
      "tensor(0.3731, grad_fn=<NllLossBackward0>)\n",
      "tensor(0.4349, grad_fn=<NllLossBackward0>)\n",
      "tensor(0.4186, grad_fn=<NllLossBackward0>)\n",
      "tensor(0.3970, grad_fn=<NllLossBackward0>)\n",
      "tensor(0.4341, grad_fn=<NllLossBackward0>)\n",
      "tensor(0.4637, grad_fn=<NllLossBackward0>)\n",
      "tensor(0.4480, grad_fn=<NllLossBackward0>)\n",
      "tensor(0.4439, grad_fn=<NllLossBackward0>)\n",
      "tensor(0.4446, grad_fn=<NllLossBackward0>)\n",
      "tensor(0.4380, grad_fn=<NllLossBackward0>)\n",
      "tensor(0.4740, grad_fn=<NllLossBackward0>)\n",
      "tensor(0.4276, grad_fn=<NllLossBackward0>)\n",
      "tensor(0.4250, grad_fn=<NllLossBackward0>)\n",
      "tensor(0.4506, grad_fn=<NllLossBackward0>)\n",
      "tensor(0.4220, grad_fn=<NllLossBackward0>)\n",
      "tensor(0.4437, grad_fn=<NllLossBackward0>)\n",
      "tensor(0.4337, grad_fn=<NllLossBackward0>)\n",
      "tensor(0.4306, grad_fn=<NllLossBackward0>)\n",
      "tensor(0.4412, grad_fn=<NllLossBackward0>)\n",
      "tensor(0.4393, grad_fn=<NllLossBackward0>)\n",
      "tensor(0.4236, grad_fn=<NllLossBackward0>)\n",
      "tensor(0.4355, grad_fn=<NllLossBackward0>)\n",
      "tensor(0.5017, grad_fn=<NllLossBackward0>)\n",
      "tensor(0.4297, grad_fn=<NllLossBackward0>)\n",
      "tensor(0.4134, grad_fn=<NllLossBackward0>)\n",
      "tensor(0.4435, grad_fn=<NllLossBackward0>)\n",
      "tensor(0.3965, grad_fn=<NllLossBackward0>)\n",
      "tensor(0.4358, grad_fn=<NllLossBackward0>)\n",
      "tensor(0.4516, grad_fn=<NllLossBackward0>)\n",
      "tensor(0.5035, grad_fn=<NllLossBackward0>)\n",
      "tensor(0.4286, grad_fn=<NllLossBackward0>)\n",
      "tensor(0.4240, grad_fn=<NllLossBackward0>)\n",
      "tensor(0.4149, grad_fn=<NllLossBackward0>)\n",
      "tensor(0.4088, grad_fn=<NllLossBackward0>)\n",
      "tensor(0.4236, grad_fn=<NllLossBackward0>)\n",
      "tensor(0.4892, grad_fn=<NllLossBackward0>)\n",
      "tensor(0.4362, grad_fn=<NllLossBackward0>)\n",
      "tensor(0.4526, grad_fn=<NllLossBackward0>)\n",
      "tensor(0.4209, grad_fn=<NllLossBackward0>)\n",
      "tensor(0.4147, grad_fn=<NllLossBackward0>)\n",
      "tensor(0.4296, grad_fn=<NllLossBackward0>)\n",
      "tensor(0.4052, grad_fn=<NllLossBackward0>)\n"
     ]
    }
   ],
   "source": [
    "gat.train()\n",
    "optimizer = torch.optim.SGD(gat.parameters(), lr=lr)\n",
    "criterion = nn.CrossEntropyLoss()\n",
    "for i in loader:\n",
    "    out, h = gat(i.x, i.edge_index)\n",
    "    y_hat = out[:i.batch_size]\n",
    "    y = i.y[:i.batch_size]\n",
    "    loss = criterion(y_hat, y)\n",
    "    loss.backward()\n",
    "    print(loss)\n",
    "    optimizer.step()"
   ]
  },
  {
   "cell_type": "code",
   "execution_count": null,
   "metadata": {},
   "outputs": [],
   "source": []
  }
 ],
 "metadata": {
  "kernelspec": {
   "display_name": "mlops",
   "language": "python",
   "name": "python3"
  },
  "language_info": {
   "codemirror_mode": {
    "name": "ipython",
    "version": 3
   },
   "file_extension": ".py",
   "mimetype": "text/x-python",
   "name": "python",
   "nbconvert_exporter": "python",
   "pygments_lexer": "ipython3",
   "version": "3.10.14"
  }
 },
 "nbformat": 4,
 "nbformat_minor": 2
}
